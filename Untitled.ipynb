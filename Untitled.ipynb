{
 "cells": [
  {
   "cell_type": "markdown",
   "id": "fe75eaf8",
   "metadata": {},
   "source": [
    "## Bài 1\n",
    "Viết hàm có dữ liệu đầu vào là 2 số a và b, số nào lớn hơn thì in ra bảng cửu chương của số đó."
   ]
  },
  {
   "cell_type": "code",
   "execution_count": 2,
   "id": "fe53784f",
   "metadata": {
    "scrolled": true
   },
   "outputs": [
    {
     "name": "stdout",
     "output_type": "stream",
     "text": [
      "7 * 1 = 7\n",
      "7 * 2 = 14\n",
      "7 * 3 = 21\n",
      "7 * 4 = 28\n",
      "7 * 5 = 35\n",
      "7 * 6 = 42\n",
      "7 * 7 = 49\n",
      "7 * 8 = 56\n",
      "7 * 9 = 63\n",
      "7 * 10 = 70\n"
     ]
    }
   ],
   "source": [
    "def calc_multiplication_table(a, b):\n",
    "    max_value = a if a > b else b\n",
    "    for i in range(1, 11):\n",
    "        print(f\"{max_value} * {i} = {max_value * i}\")\n",
    "        \n",
    "calc_multiplication_table(3, 7)"
   ]
  },
  {
   "cell_type": "markdown",
   "id": "891cb7a2",
   "metadata": {},
   "source": [
    "## Bài 2\n",
    "Viết hàm `remove_string` có dữ liệu đầu vào là 2 chuỗi a và b, hãy tìm trong chuỗi a có chuỗi b hay không, nếu có hãy xóa toán bộ chuỗi b trong a.\n",
    "\n",
    "Sau đó trả về chuỗi a mới\n",
    "\n",
    "Ví dụ:\n",
    "\n",
    "chuoi1 = \"xin chào các bạn, các bạn có khỏe không?\"\n",
    "\n",
    "chuoi2 = \"các bạn\"\n",
    "\n",
    "chuoi3 = remove_string(chuoi1,chuoi2)\n",
    "\n",
    "print(chuoi3)\n",
    "\n",
    "Kết quả in ra là:\n",
    "xin chào ,  có khỏe không"
   ]
  },
  {
   "cell_type": "code",
   "execution_count": 7,
   "id": "fc7b9562",
   "metadata": {},
   "outputs": [
    {
     "name": "stdout",
     "output_type": "stream",
     "text": [
      "xin chào ,  có khỏe không?\n"
     ]
    }
   ],
   "source": [
    "def remove_string(a, b):\n",
    "    if b in a:\n",
    "        a = a.replace(b, '')\n",
    "    return a\n",
    "\n",
    "chuoi1 = \"xin chào các bạn, các bạn có khỏe không?\"\n",
    "\n",
    "chuoi2 = \"các bạn\"\n",
    "\n",
    "chuoi3 = remove_string(chuoi1,chuoi2)\n",
    "\n",
    "print(chuoi3)"
   ]
  },
  {
   "cell_type": "markdown",
   "id": "b6c80bc2",
   "metadata": {},
   "source": [
    "## Bài 3\n",
    "Viết hàm nhận vào 4 số nguyên và trả về giá trị lớn thứ nhì trong 4 số nguyên đó."
   ]
  },
  {
   "cell_type": "code",
   "execution_count": 13,
   "id": "4c6f57c3",
   "metadata": {
    "scrolled": true
   },
   "outputs": [
    {
     "data": {
      "text/plain": [
       "76"
      ]
     },
     "execution_count": 13,
     "metadata": {},
     "output_type": "execute_result"
    }
   ],
   "source": [
    "def find_2nd_max_value(num1, num2, num3, num4):\n",
    "    values = [num1, num2, num3, num4]\n",
    "    values.sort()\n",
    "    return values[-2]\n",
    "    \n",
    "find_2nd_max_value(76, 41, 95, 75)"
   ]
  },
  {
   "cell_type": "code",
   "execution_count": 14,
   "id": "163f04bf",
   "metadata": {},
   "outputs": [
    {
     "data": {
      "text/plain": [
       "76"
      ]
     },
     "execution_count": 14,
     "metadata": {},
     "output_type": "execute_result"
    }
   ],
   "source": [
    "def find_2nd_max_value(num1, num2, num3, num4):\n",
    "    max_value = num1\n",
    "    if num2 > max_value:\n",
    "        max_value = num2\n",
    "    if num3 > max_value:\n",
    "        max_value = num3\n",
    "    if num4 > max_value:\n",
    "        max_value = num4\n",
    "        \n",
    "    max_value2 = num1\n",
    "    if num2 > max_value2 and num2 < max_value:\n",
    "        max_value = num2\n",
    "    if num3 > max_value2 and num2 < max_value:\n",
    "        max_value = num3\n",
    "    if num4 > max_value2 and num2 < max_value:\n",
    "        max_value = num4\n",
    "\n",
    "    return max_value2\n",
    "\n",
    "find_2nd_max_value(76, 41, 95, 75)\n",
    "        \n",
    "    "
   ]
  },
  {
   "cell_type": "markdown",
   "id": "e42ff324",
   "metadata": {},
   "source": [
    "## Bài 4\n",
    "treepersqkm là một dictionary hiển thị số lượng cây trên mỗi km vuông ở các quốc gia khác nhau. Hãy viết một hàm nhận vào dictionary này và trả về danh sách tên các quốc gia có hơn 20000 cây trên mỗi km vuông."
   ]
  },
  {
   "cell_type": "code",
   "execution_count": 16,
   "id": "6794f656",
   "metadata": {},
   "outputs": [
    {
     "data": {
      "text/plain": [
       "['Finland',\n",
       " 'Taiwan',\n",
       " 'Japan',\n",
       " 'Russia',\n",
       " 'Brazil',\n",
       " 'Canada',\n",
       " 'Bulgaria',\n",
       " 'France',\n",
       " 'Greece',\n",
       " 'United States']"
      ]
     },
     "execution_count": 16,
     "metadata": {},
     "output_type": "execute_result"
    }
   ],
   "source": [
    "def filter_countries(data):\n",
    "    result = []\n",
    "    for country in data:\n",
    "        if data[country] > 20000:\n",
    "            result.append(country)\n",
    "    return result\n",
    "\n",
    "\n",
    "\n",
    "treepersqkm = {\"Finland\": 90652, \"Taiwan\": 69593, \"Japan\": 49894, \"Russia\": 41396, \"Brazil\": 39542, \"Canada\": 36388, \"Bulgaria\": 24987, \"France\": 24436, \"Greece\": 24323, \"United States\": 23513, \"Turkey\": 11126, \"India\": 11109, \"Denmark\": 6129, \"Syria\": 534, \"Saudi Arabia\": 1}\n",
    "filter_countries(treepersqkm)"
   ]
  }
 ],
 "metadata": {
  "kernelspec": {
   "display_name": "Python 3 (ipykernel)",
   "language": "python",
   "name": "python3"
  },
  "language_info": {
   "codemirror_mode": {
    "name": "ipython",
    "version": 3
   },
   "file_extension": ".py",
   "mimetype": "text/x-python",
   "name": "python",
   "nbconvert_exporter": "python",
   "pygments_lexer": "ipython3",
   "version": "3.9.6"
  }
 },
 "nbformat": 4,
 "nbformat_minor": 5
}
