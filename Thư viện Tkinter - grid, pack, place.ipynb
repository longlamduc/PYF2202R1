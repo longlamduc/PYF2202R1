{
 "cells": [
  {
   "cell_type": "markdown",
   "id": "4c559a90",
   "metadata": {},
   "source": [
    "## pack\n",
    "\n",
    "Lệnh `pack()` sẽ giúp sắp xếp các đối tượng theo thứ tự nhất định"
   ]
  },
  {
   "cell_type": "code",
   "execution_count": 2,
   "id": "d6af98e3",
   "metadata": {},
   "outputs": [],
   "source": [
    "# Review\n",
    "from tkinter import *\n",
    "windows = Tk()\n",
    "windows.title('Registration')\n",
    "\n",
    "Registration_text = Label(windows, text='Registration')\n",
    "fullname_text = Label(windows, text='Fullname')\n",
    "address_text = Label(windows, text='Address')\n",
    "email_text = Label(windows, text='Email')\n",
    "\n",
    "fullname_input = Entry(windows)\n",
    "address_input = Entry(windows)\n",
    "email_input = Entry(windows)\n",
    "\n",
    "Register_btn = Button(windows, text='Register')\n",
    "\n",
    "Registration_text.pack()\n",
    "fullname_text.pack()\n",
    "fullname_input.pack()\n",
    "address_text.pack()\n",
    "address_input.pack()\n",
    "email_text.pack()\n",
    "email_input.pack()\n",
    "\n",
    "Register_btn.pack()\n",
    "\n",
    "\n",
    "windows.mainloop()"
   ]
  },
  {
   "cell_type": "markdown",
   "id": "0093b00d",
   "metadata": {},
   "source": [
    "## grid\n",
    "Lệnh `grid()` sẽ giúp sắp xếp các đối tượng theo một bảng"
   ]
  },
  {
   "cell_type": "code",
   "execution_count": 13,
   "id": "d89cd306",
   "metadata": {},
   "outputs": [],
   "source": [
    "from tkinter import *\n",
    "windows = Tk()\n",
    "windows.title(\"Registration\")\n",
    "\n",
    "registration_lbl = Label(windows, text=\"REGISTER\")\n",
    "fullname_lbl = Label(windows, text=\"Full name\")\n",
    "address_lbl = Label(windows, text=\"Address\")\n",
    "email_lbl = Label(windows, text=\"Email\")\n",
    "\n",
    "fullname_entry = Entry(windows)\n",
    "address_entry = Entry(windows)\n",
    "email_entry = Entry(windows)\n",
    "\n",
    "btn_register = Button(windows, text=\"Register\")\n",
    "btn_login = Button(windows, text=\"Login\")\n",
    "\n",
    "registration_lbl.grid(row=0, column=0, columnspan=2)\n",
    "fullname_lbl.grid(row=1, column=0)\n",
    "email_lbl.grid(row=2, column=0)\n",
    "address_lbl.grid(row=3, column=0)\n",
    "\n",
    "fullname_entry.grid(row=1, column=1)\n",
    "email_entry.grid(row=2, column=1)\n",
    "address_entry.grid(row=3, column=1)\n",
    "\n",
    "btn_login.grid(row=4, column=2)\n",
    "btn_register.grid(row=4, column=3)\n",
    "\n",
    "\n",
    "windows.mainloop()"
   ]
  },
  {
   "cell_type": "markdown",
   "id": "f0a05577",
   "metadata": {},
   "source": [
    "## place\n",
    "\n",
    "Lệnh `place()` sắp xếp các widget bằng cách đặt chúng vào một vị trí cụ thể trong widget chính."
   ]
  },
  {
   "cell_type": "code",
   "execution_count": 12,
   "id": "070e6374",
   "metadata": {},
   "outputs": [],
   "source": [
    "from tkinter import *\n",
    "windows = Tk()\n",
    "windows.title(\"Registration\")\n",
    "\n",
    "registration_lbl = Label(windows, text=\"REGISTER\")\n",
    "fullname_lbl = Label(windows, text=\"Full name\")\n",
    "address_lbl = Label(windows, text=\"Address\")\n",
    "email_lbl = Label(windows, text=\"Email\")\n",
    "\n",
    "fullname_entry = Entry(windows)\n",
    "address_entry = Entry(windows)\n",
    "email_entry = Entry(windows)\n",
    "\n",
    "btn_register = Button(windows, text=\"Register\")\n",
    "btn_login = Button(windows, text=\"Login\")\n",
    "\n",
    "registration_lbl.place(x=100, y=50)\n",
    "fullname_lbl.place(x=10, y=100)\n",
    "address_lbl.place(x=10, y=150)\n",
    "\n",
    "windows.mainloop()"
   ]
  }
 ],
 "metadata": {
  "kernelspec": {
   "display_name": "Python 3 (ipykernel)",
   "language": "python",
   "name": "python3"
  },
  "language_info": {
   "codemirror_mode": {
    "name": "ipython",
    "version": 3
   },
   "file_extension": ".py",
   "mimetype": "text/x-python",
   "name": "python",
   "nbconvert_exporter": "python",
   "pygments_lexer": "ipython3",
   "version": "3.9.6"
  }
 },
 "nbformat": 4,
 "nbformat_minor": 5
}
