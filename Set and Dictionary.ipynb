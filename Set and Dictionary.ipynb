{
 "cells": [
  {
   "cell_type": "markdown",
   "id": "8f175499",
   "metadata": {},
   "source": [
    "# Set\n",
    "Set trong python là một tập các giá trị  không có thứ tự. Mỗi giá trị trong set là duy nhất,\n",
    "không thể lặp lại và bất biến( tức bạn không thể thay đổi giá trị các phần tử trong set).\n",
    "\n",
    "Tuy nhiên các set có thể thay đổi. Chúng ta có thể thêm, xóa các phần tử trong set.\n",
    "\n",
    "Các set  có thể được sử dụng để thực hiện các phép tập hợp như phép giao, hợp, …"
   ]
  },
  {
   "cell_type": "markdown",
   "id": "316b7b18",
   "metadata": {},
   "source": [
    "## Tạo một set\n",
    "Mỗi set được tạo bằng cách đặt các phần tử của nó vào trong dấu {}, được phân tách bằng dấu phẩy,\n",
    "hoặc sử dụng hàm dựng sẵn set().\n",
    "\n",
    "Các phần tử của set có thể thuộc nhiều kiểu dữ liệu khác  nhau như: numbers, string,… \n",
    "Nhưng các phần tử không được là các kiểu dữ liệu có thể thay đổi như list hay dictionary.\n",
    "\n",
    "Lưu ý nếu các phần tử trong set trùng nhau, sẽ tự động loại bỏ phần tử bị trùng lặp."
   ]
  },
  {
   "cell_type": "code",
   "execution_count": 8,
   "id": "45e3597b",
   "metadata": {},
   "outputs": [
    {
     "name": "stdout",
     "output_type": "stream",
     "text": [
      "{'True', 1, 2}\n",
      "{'c', 'a', 'd', 'b'}\n"
     ]
    }
   ],
   "source": [
    "set1 = {1, 2, \"True\"}\n",
    "print(set1)\n",
    "\n",
    "list2 = ['a', 'b', 'c', 'd', 'c']\n",
    "set2 = set(list2)\n",
    "print(set2)"
   ]
  },
  {
   "cell_type": "markdown",
   "id": "481300a1",
   "metadata": {},
   "source": [
    "## Truy cập các phần tử trong set\n",
    "Không thể truy cập đến một phần tử thông qua vị trí của chúng, vì set không có thứ tự các phần tử.\n",
    "\n",
    "Thay vào đó, ta phải sử dụng vòng for .\n",
    "\n",
    "Cú pháp:\n",
    "\n",
    "`for <tên biến> in <set>:`\n",
    "\n",
    "Ví dụ:"
   ]
  },
  {
   "cell_type": "code",
   "execution_count": 10,
   "id": "21cb1e98",
   "metadata": {},
   "outputs": [
    {
     "name": "stdout",
     "output_type": "stream",
     "text": [
      "{'tomato', 'mango', 'apple', 'banana'}\n",
      "tomato\n",
      "mango\n",
      "apple\n",
      "banana\n"
     ]
    }
   ],
   "source": [
    "set1 = {'apple', 'banana', 'mango', 'tomato'}\n",
    "print(set1)\n",
    "for item in set1:\n",
    "    print(item)"
   ]
  },
  {
   "cell_type": "markdown",
   "id": "7b2774e6",
   "metadata": {},
   "source": [
    "## Thêm phần tử\n",
    "Chúng ta có thể thêm một phần tử vào set trong python bằng cách sử dụng hàm add()\n",
    "hoặc thêm nhiều bằng cách sử dụng hàm update()."
   ]
  },
  {
   "cell_type": "markdown",
   "id": "d9199d84",
   "metadata": {},
   "source": [
    "### `<set>.add(giá trị)`"
   ]
  },
  {
   "cell_type": "code",
   "execution_count": 12,
   "id": "92b7f568",
   "metadata": {},
   "outputs": [
    {
     "name": "stdout",
     "output_type": "stream",
     "text": [
      "{4, 5, 6, 7, 8}\n",
      "{4, 5, 6, 7, 8, 'hello'}\n"
     ]
    }
   ],
   "source": [
    "myset = {4, 5, 7, 8}\n",
    "myset.add(6)\n",
    "print(myset)\n",
    "\n",
    "myset.add('hello')\n",
    "print(myset)"
   ]
  },
  {
   "cell_type": "markdown",
   "id": "116f11ec",
   "metadata": {},
   "source": [
    "### `<set>.update(tập hợp)`"
   ]
  },
  {
   "cell_type": "code",
   "execution_count": 13,
   "id": "a8613617",
   "metadata": {},
   "outputs": [
    {
     "name": "stdout",
     "output_type": "stream",
     "text": [
      "{4, 5, 6, 7, 8, 9, 10}\n"
     ]
    }
   ],
   "source": [
    "myset = {4, 5, 7, 8}\n",
    "myset.update([9, 10, 6, 4, 5])\n",
    "\n",
    "print(myset)\n"
   ]
  },
  {
   "cell_type": "markdown",
   "id": "0fa67e7d",
   "metadata": {},
   "source": [
    "## Xóa phần tử\n",
    "Để loại bỏ một phần tử trong set có nhiều cách."
   ]
  },
  {
   "cell_type": "markdown",
   "id": "0c517ae5",
   "metadata": {},
   "source": [
    "### Hàm remove\n",
    "Nếu xóa phần tử bằng remove thì trong trường hợp phần tử cần xóa không có trong set thì sẽ phát sinh lỗi."
   ]
  },
  {
   "cell_type": "code",
   "execution_count": 16,
   "id": "070aa726",
   "metadata": {},
   "outputs": [
    {
     "name": "stdout",
     "output_type": "stream",
     "text": [
      "{'cherry', 'apple'}\n"
     ]
    }
   ],
   "source": [
    "myset = {'apple', 'banana', 'cherry'}\n",
    "myset.remove('banana')\n",
    "print(myset)"
   ]
  },
  {
   "cell_type": "markdown",
   "id": "2ce27a4f",
   "metadata": {},
   "source": [
    "### Hàm discard\n",
    "Khi xóa bằng discard, nếu phần tử không có trong set thì sẽ không phát sinh lỗi."
   ]
  },
  {
   "cell_type": "code",
   "execution_count": 18,
   "id": "3bf6c5e0",
   "metadata": {},
   "outputs": [
    {
     "name": "stdout",
     "output_type": "stream",
     "text": [
      "{'cherry', 'apple', 'banana'}\n"
     ]
    }
   ],
   "source": [
    "myset = {'apple', 'banana', 'cherry'}\n",
    "myset.discard('banana1')\n",
    "print(myset)"
   ]
  },
  {
   "cell_type": "markdown",
   "id": "b691546b",
   "metadata": {},
   "source": [
    "### Hàm pop\n",
    "pop sẽ xóa phần tử cuối cùng, nên cẩn thận khi sử dụng pop vì bạn sẽ không biết được phần tử cuối cùng là phần tử nào."
   ]
  },
  {
   "cell_type": "code",
   "execution_count": 22,
   "id": "4ed82543",
   "metadata": {},
   "outputs": [
    {
     "name": "stdout",
     "output_type": "stream",
     "text": [
      "cherry\n",
      "{'apple', 'banana'}\n"
     ]
    }
   ],
   "source": [
    "myset = {'apple', 'banana', 'cherry'}\n",
    "value = myset.pop()\n",
    "print(value)\n",
    "print(myset)"
   ]
  },
  {
   "cell_type": "markdown",
   "id": "bd9ea1e6",
   "metadata": {},
   "source": [
    "### Hàm clear\n",
    "Hàm clear() sẽ xóa toàn bộ các phần tử trong set."
   ]
  },
  {
   "cell_type": "code",
   "execution_count": 25,
   "id": "da51efef",
   "metadata": {},
   "outputs": [
    {
     "name": "stdout",
     "output_type": "stream",
     "text": [
      "set()\n"
     ]
    }
   ],
   "source": [
    "myset = {'apple', 'banana', 'cherry'}\n",
    "myset.clear()\n",
    "print(myset)"
   ]
  },
  {
   "cell_type": "markdown",
   "id": "4c562917",
   "metadata": {},
   "source": [
    "### Hàm del\n",
    "Hàm del sẽ xóa set trong python."
   ]
  },
  {
   "cell_type": "code",
   "execution_count": 26,
   "id": "709abf42",
   "metadata": {
    "scrolled": true
   },
   "outputs": [
    {
     "ename": "NameError",
     "evalue": "name 'myset' is not defined",
     "output_type": "error",
     "traceback": [
      "\u001b[1;31m---------------------------------------------------------------------------\u001b[0m",
      "\u001b[1;31mNameError\u001b[0m                                 Traceback (most recent call last)",
      "\u001b[1;32m~\\AppData\\Local\\Temp/ipykernel_22276/1405814294.py\u001b[0m in \u001b[0;36m<module>\u001b[1;34m\u001b[0m\n\u001b[0;32m      1\u001b[0m \u001b[0mmyset\u001b[0m \u001b[1;33m=\u001b[0m \u001b[1;33m{\u001b[0m\u001b[1;34m'apple'\u001b[0m\u001b[1;33m,\u001b[0m \u001b[1;34m'banana'\u001b[0m\u001b[1;33m,\u001b[0m \u001b[1;34m'cherry'\u001b[0m\u001b[1;33m}\u001b[0m\u001b[1;33m\u001b[0m\u001b[1;33m\u001b[0m\u001b[0m\n\u001b[0;32m      2\u001b[0m \u001b[1;32mdel\u001b[0m \u001b[0mmyset\u001b[0m\u001b[1;33m\u001b[0m\u001b[1;33m\u001b[0m\u001b[0m\n\u001b[1;32m----> 3\u001b[1;33m \u001b[0mprint\u001b[0m\u001b[1;33m(\u001b[0m\u001b[0mmyset\u001b[0m\u001b[1;33m)\u001b[0m\u001b[1;33m\u001b[0m\u001b[1;33m\u001b[0m\u001b[0m\n\u001b[0m",
      "\u001b[1;31mNameError\u001b[0m: name 'myset' is not defined"
     ]
    }
   ],
   "source": [
    "myset = {'apple', 'banana', 'cherry'}\n",
    "del myset\n",
    "print(myset)"
   ]
  },
  {
   "cell_type": "markdown",
   "id": "a20f121d",
   "metadata": {},
   "source": [
    "# Dictionary\n",
    "\n",
    "Dictionary là một dạng list đặc biệt, nó khác list ở chỗ không lưu trữ các giá trị theo chỉ số vị trí, thay vào đó Dictionary sẽ lưu trữ các giá trị theo key\n",
    "\n",
    "##### Tài liệu tham khảo: https://www.w3schools.com/python/python_dictionaries.asp\n",
    "\n",
    "### Khai báo một dictionary\n",
    "\n",
    "Cú pháp:\n",
    "\n",
    "`<tên dictionary> = {}`\n",
    "\n",
    "### Dictionary được khai báo bằng hai dấu hoặc nhọn\n",
    "\n",
    "Đây là một dictionary rỗng\n",
    "\n",
    "<b>Ví dụ 1:</b>\n",
    "\n",
    "`a = {}`\n",
    "\n",
    "a là một dictionary rỗng\n",
    "\n",
    "<b>Ví dụ 2:</b>\n",
    "\n",
    "`b = {\"name\": \"John Smith\", \"course\": \"Python\", \"is_studying\": True}`\n",
    "\n",
    "b là một dictionary có 3 key, mõi key đều có một giá trị riêng biệt\n",
    "\n",
    "Key có thể mang kiểu dữ liệu là chuỗi hoặc số\n",
    "\n",
    "##### Mỗi một key đều phải có giá trị của riêng nó, không thể khai báo key không có giá trị\n",
    "\n",
    "<b>Hãy khai báo một dictionary có 3 phần tử</b>"
   ]
  },
  {
   "cell_type": "code",
   "execution_count": 5,
   "id": "d835f461",
   "metadata": {},
   "outputs": [
    {
     "name": "stdout",
     "output_type": "stream",
     "text": [
      "{'name': 'John Smith', 'course': 'Python', 'is_studying': True}\n",
      "Python\n"
     ]
    }
   ],
   "source": [
    "b = {\"name\": \"John Smith\", \"course\": \"Python\", \"is_studying\": True}\n",
    "print(b)\n",
    "print(b['course'])"
   ]
  },
  {
   "cell_type": "markdown",
   "id": "be1e321c",
   "metadata": {},
   "source": [
    "### Thêm key vào dictionary\n",
    "\n",
    "Cú pháp:\n",
    "\n",
    "`<tên dictionary>[<key>] = <giá trị>`\n",
    "\n",
    "<b>Ví dụ 1:</b>\n",
    "\n",
    "`a = {}\n",
    "a[\"brand\"] = \"Aquafina\"`\n",
    "\n",
    "a là một dictionary có một phần tử, phần tử đó có key là \"brand\" và giá trị của key đó là \"Aquafina\"\n",
    "\n",
    "##### Lưu ý, nếu trong trường hợp đã tồn tại key trong dictionary, dùng lệnh trên sẽ thay đổi giá trị key đó (không phải thêm key khác vào)\n",
    "\n",
    "<b>Ví dụ 2:</b>\n",
    "\n",
    "`a = {}\n",
    "a[\"brand\"] = \"Aquafina\"\n",
    "a[\"brand\"] = \"Lavie\"`\n",
    "\n",
    "a vẫn là một dictionary có một phần tử, phần tử đó có key là \"brand\" và giá trị của key đó là \"Lavie\"\n",
    "\n",
    "<b>Hãy khai báo một dictionary không có phần tử nào, sau đó thêm một phần tử vào dictionary đó</b>"
   ]
  },
  {
   "cell_type": "code",
   "execution_count": 9,
   "id": "7573ebef",
   "metadata": {},
   "outputs": [
    {
     "name": "stdout",
     "output_type": "stream",
     "text": [
      "{}\n",
      "{'brand': 'Aquafina'}\n",
      "Aquafina\n",
      "{'brand': 'Lavie'}\n",
      "Lavie\n"
     ]
    }
   ],
   "source": [
    "a = {}\n",
    "print(a)\n",
    "a['brand'] = 'Aquafina'\n",
    "\n",
    "print(a)\n",
    "print(a['brand'])\n",
    "\n",
    "a['brand'] = 'Lavie'\n",
    "print(a)\n",
    "print(a['brand'])\n"
   ]
  },
  {
   "cell_type": "markdown",
   "id": "65c98825",
   "metadata": {},
   "source": [
    "### Truy xuất phần tử trong dictionary\n",
    "\n",
    "Cú pháp:\n",
    "\n",
    "`<tên dictionary>[<key>]`\n",
    "\n",
    "<b>Ví dụ:</b>\n",
    "\n",
    "`b = {\"name\": \"John Smith\", \"course\": \"Python\", \"is_studying\": True}\n",
    "print(b[\"name\"])`\n",
    "\n",
    "Màn hình sẽ in: John Smith\n",
    "\n",
    "<b>Hãy khai báo một dictionary rồi in ra màn hình một phần tử bất kỳ trong dictionary đó</b>"
   ]
  },
  {
   "cell_type": "code",
   "execution_count": 10,
   "id": "f6159385",
   "metadata": {},
   "outputs": [
    {
     "name": "stdout",
     "output_type": "stream",
     "text": [
      "John Smith\n"
     ]
    }
   ],
   "source": [
    "b = {\"name\": \"John Smith\", \"course\": \"Python\", \"is_studying\": True}\n",
    "print(b[\"name\"])"
   ]
  },
  {
   "cell_type": "markdown",
   "id": "afa92f87",
   "metadata": {},
   "source": [
    "### Sao chép dictionary\n",
    "\n",
    "##### Việc sao chép dictionary được thực hiện hệt như sao chép list, chúng ta cần phải sử dụng lệnh copy()"
   ]
  },
  {
   "cell_type": "markdown",
   "id": "ef7e800d",
   "metadata": {},
   "source": [
    "### Duyệt dictionary bằng lệnh for\n",
    "\n",
    "Cú pháp:\n",
    "\n",
    "`for <tên biến> in <tên dictionary>:`\n",
    "\n",
    "Biến sẽ có giá trị là từng key trong dictionary\n",
    "\n",
    "<b>Ví dụ:</b>\n",
    "\n",
    "`a = {\"name\": \"John Smith\", \"course\": \"Python\", \"is_studying\": True}\n",
    "for i in a:\n",
    "    print(i)`\n",
    "    \n",
    "Màn hình sẽ in ra:\n",
    "\n",
    "name\n",
    "\n",
    "course\n",
    "\n",
    "is_studying\n",
    "\n",
    "<b>Hãy khai báo một dictionary rồi in ra màn hình toàn bộ giá trị trong dictionary đó</b>"
   ]
  },
  {
   "cell_type": "code",
   "execution_count": 20,
   "id": "3bdd1508",
   "metadata": {},
   "outputs": [
    {
     "name": "stdout",
     "output_type": "stream",
     "text": [
      "name\n",
      "course\n",
      "is_studying\n",
      "True\n"
     ]
    }
   ],
   "source": [
    "# Duyệt qua danh sách các key trong dictionary\n",
    "a = {\"name\": \"John Smith\", \"course\": \"Python\", \"is_studying\": True}\n",
    "for i in a:\n",
    "    print(i)\n",
    "\n",
    "print('name' in a.keys())"
   ]
  },
  {
   "cell_type": "code",
   "execution_count": 19,
   "id": "ae685257",
   "metadata": {},
   "outputs": [
    {
     "name": "stdout",
     "output_type": "stream",
     "text": [
      "John Smith\n",
      "Python\n",
      "True\n",
      "True\n"
     ]
    }
   ],
   "source": [
    "# Duyệt qua danh sách các value trong dictionary\n",
    "a = {\"name\": \"John Smith\", \"course\": \"Python\", \"is_studying\": True}\n",
    "for value in a.values():\n",
    "    print(value)\n",
    "    \n",
    "print('Python' in a.values())"
   ]
  },
  {
   "cell_type": "code",
   "execution_count": 16,
   "id": "5cd538fb",
   "metadata": {
    "scrolled": true
   },
   "outputs": [
    {
     "name": "stdout",
     "output_type": "stream",
     "text": [
      "name\n",
      "course\n",
      "is_studying\n"
     ]
    }
   ],
   "source": [
    "# Duyệt qua danh sách các key trong dictionary\n",
    "a = {\"name\": \"John Smith\", \"course\": \"Python\", \"is_studying\": True}\n",
    "for key in a.keys():\n",
    "    print(key)"
   ]
  },
  {
   "cell_type": "code",
   "execution_count": 21,
   "id": "4aab2e3d",
   "metadata": {},
   "outputs": [
    {
     "name": "stdout",
     "output_type": "stream",
     "text": [
      "('name', 'John Smith')\n",
      "('course', 'Python')\n",
      "('is_studying', True)\n",
      "True\n"
     ]
    }
   ],
   "source": [
    "# Duyệt qua danh sách các item trong dictionary\n",
    "a = {\"name\": \"John Smith\", \"course\": \"Python\", \"is_studying\": True}\n",
    "for item in a.items():\n",
    "    print(item)\n",
    "    \n",
    "print(('name', 'John Smith') in a.items())"
   ]
  },
  {
   "cell_type": "markdown",
   "id": "081edda7",
   "metadata": {},
   "source": [
    "## Ghép dictionary\n",
    "Cú pháp:\n",
    "\n",
    "`<dictionary cần ghép>.update(<dictionary được ghép>)`\n",
    "\n",
    "Dictionary cần ghép sẽ có thêm các key và value từ dictionary được ghép thêm vào."
   ]
  },
  {
   "cell_type": "code",
   "execution_count": 22,
   "id": "f7b399c4",
   "metadata": {},
   "outputs": [
    {
     "name": "stdout",
     "output_type": "stream",
     "text": [
      "{'name': 'John Smith', 'course': 'Python', 'is_studying': True, 'gender': 'Male', 'country': 'Viet Nam', 'eye_color': 'brown'}\n"
     ]
    }
   ],
   "source": [
    "a = {\"name\": \"John Smith\", \"course\": \"Python\", \"is_studying\": True}\n",
    "b = {\"gender\": \"Male\", \"country\": \"Viet Nam\", \"eye_color\": \"brown\"}\n",
    "\n",
    "a.update(b)\n",
    "\n",
    "print(a)"
   ]
  }
 ],
 "metadata": {
  "kernelspec": {
   "display_name": "Python 3 (ipykernel)",
   "language": "python",
   "name": "python3"
  },
  "language_info": {
   "codemirror_mode": {
    "name": "ipython",
    "version": 3
   },
   "file_extension": ".py",
   "mimetype": "text/x-python",
   "name": "python",
   "nbconvert_exporter": "python",
   "pygments_lexer": "ipython3",
   "version": "3.9.6"
  }
 },
 "nbformat": 4,
 "nbformat_minor": 5
}
