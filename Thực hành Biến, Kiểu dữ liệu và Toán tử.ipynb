{
 "cells": [
  {
   "cell_type": "code",
   "execution_count": 57,
   "id": "4adde5fe",
   "metadata": {},
   "outputs": [],
   "source": [
    "# Thực hành: Vẽ mặt cười\n",
    "import turtle\n",
    "pen = turtle.Turtle()\n",
    "pen.pensize(5)\n",
    "pen.shape(\"square\")\n",
    "pen.penup()\n",
    "pen.goto(0, -200)\n",
    "\n",
    "facesize = 200\n",
    "eye_size = 25\n",
    "nose_size = 70\n",
    "\n",
    "pen.pendown()\n",
    "pen.fillcolor(\"#184D02\")\n",
    "pen.begin_fill()\n",
    "pen.circle(facesize)\n",
    "pen.end_fill()\n",
    "\n",
    "pen.penup()\n",
    "pen.goto(-50, 100)\n",
    "\n",
    "pen.fillcolor(\"#FFFFFF\")\n",
    "# draw an eye\n",
    "pen.pendown()\n",
    "pen.begin_fill()\n",
    "pen.circle(eye_size)\n",
    "pen.end_fill()\n",
    "\n",
    "\n",
    "pen.penup()\n",
    "pen.goto(50, 100)\n",
    "\n",
    "# draw an eye\n",
    "pen.pendown()\n",
    "pen.begin_fill()\n",
    "pen.circle(eye_size)\n",
    "pen.end_fill()\n",
    "\n",
    "pen.penup()\n",
    "pen.goto(0, 50)\n",
    "\n",
    "pen.fillcolor(\"#C11414\")\n",
    "# draw a nose\n",
    "pen.pendown()\n",
    "pen.begin_fill()\n",
    "pen.circle(-nose_size, steps=3)\n",
    "pen.end_fill()\n",
    "\n",
    "pen.penup()\n",
    "pen.goto(-100, -70)\n",
    "\n",
    "pen.pendown()\n",
    "pen.right(90)\n",
    "pen.circle(100, 180)\n",
    "\n",
    "turtle.done()"
   ]
  },
  {
   "cell_type": "code",
   "execution_count": 53,
   "id": "150c8ce1",
   "metadata": {},
   "outputs": [],
   "source": [
    "turtle.done()"
   ]
  },
  {
   "cell_type": "code",
   "execution_count": 58,
   "id": "156c0799",
   "metadata": {},
   "outputs": [
    {
     "name": "stdout",
     "output_type": "stream",
     "text": [
      "72.61843774138907\n"
     ]
    }
   ],
   "source": [
    "# Thực hành: Tính diện tích tam giác\n",
    "a = 10\n",
    "b = 20\n",
    "c = 15\n",
    "\n",
    "p = (a + b + c) / 2\n",
    "\n",
    "s = (p * (p - a) * (p - b) * (p - c)) ** 0.5\n",
    "\n",
    "print(s)"
   ]
  }
 ],
 "metadata": {
  "kernelspec": {
   "display_name": "Python 3 (ipykernel)",
   "language": "python",
   "name": "python3"
  },
  "language_info": {
   "codemirror_mode": {
    "name": "ipython",
    "version": 3
   },
   "file_extension": ".py",
   "mimetype": "text/x-python",
   "name": "python",
   "nbconvert_exporter": "python",
   "pygments_lexer": "ipython3",
   "version": "3.9.6"
  }
 },
 "nbformat": 4,
 "nbformat_minor": 5
}
