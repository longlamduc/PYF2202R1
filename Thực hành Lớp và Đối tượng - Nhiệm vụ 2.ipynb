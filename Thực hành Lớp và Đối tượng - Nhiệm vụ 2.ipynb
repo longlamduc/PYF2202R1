{
 "cells": [
  {
   "cell_type": "code",
   "execution_count": null,
   "id": "1b7705b3",
   "metadata": {},
   "outputs": [],
   "source": [
    "\"\"\"\n",
    "Viết class NhanVien gồm các thuộc tính:\n",
    "+ Tên\n",
    "+ Tuổi\n",
    "+ Địa chỉ\n",
    "+ Tiền lương\n",
    "+ Tổng số giờ làm\n",
    "\n",
    "Và các phương thức:\n",
    "- Phương thức tạo\n",
    "- nhap_thong_tin() : Nhập các thông tin cho nhân viên từ bàn phím\n",
    "- in_thong_tin() : In ra tất cả các thông tin của nhân viên\n",
    "- tinh_thuong(): Tính toán và trả về số tiền thưởng của nhân viên theo công thức sau:\n",
    "Nếu tổng số giờ làm của nhân viên >=200 thì thưởng = lương * 20%\n",
    "Nếu tổng số giờ làm của nhân viên <200 và >=100 thì thưởng = lương * 10%\n",
    "Nếu tổng số giờ làm của nhân viên <100 thì thưởng = 0\n",
    "\"\"\""
   ]
  },
  {
   "cell_type": "code",
   "execution_count": 3,
   "id": "3cf0f41d",
   "metadata": {},
   "outputs": [],
   "source": [
    "class NhanVien:\n",
    "#     def __init__(self):\n",
    "#         self.ten = \"\"\n",
    "#         self.tuoi = 0\n",
    "#         self.dia_chi = \"\"\n",
    "#         self.tien_luong = 0\n",
    "#         self.tong_gio_lam = 0\n",
    "        \n",
    "    def nhap_thong_tin(self):\n",
    "        self.ten = input(\"Nhập tên nhân viên: \")\n",
    "        self.tuoi = int(input(\"Nhập tuổi nhân viên: \"))\n",
    "        self.dia_chi = input(\"Nhập địa chỉ nhân viên: \")\n",
    "        self.tien_luong = float(input(\"Nhập tiền lương nhân viên: \"))\n",
    "        self.tong_gio_lam = float(input(\"Nhập tổng giờ làm: \"))\n",
    "        \n",
    "    def in_thong_tin(self):\n",
    "        print(f\"Tên: {self.ten}\")\n",
    "        print(f\"Tuổi: {self.tuoi}\")\n",
    "        print(f\"Địa chỉ: {self.dia_chi}\")\n",
    "        print(f\"Tiền lương: {self.tien_luong}\")\n",
    "        print(f\"Tổng số giờ làm: {self.tong_gio_lam}\")\n",
    "        \n",
    "    def tinh_thuong(self):\n",
    "        if self.tong_gio_lam >= 200:\n",
    "            thuong = self.tien_luong * 0.2\n",
    "        elif self.tong_gio_lam >= 100:\n",
    "            thuong = self.tien_luong * 0.1\n",
    "        else:\n",
    "            thuong = 0\n",
    "            \n",
    "        return thuong"
   ]
  },
  {
   "cell_type": "code",
   "execution_count": 4,
   "id": "e623abc5",
   "metadata": {},
   "outputs": [
    {
     "name": "stdout",
     "output_type": "stream",
     "text": [
      "Nhập tên nhân viên: Phương\n",
      "Nhập tuổi nhân viên: 36\n",
      "Nhập địa chỉ nhân viên: 123 Hòa Bình\n",
      "Nhập tiền lương nhân viên: 12500000\n",
      "Nhập tổng giờ làm: 150\n",
      "Tên: Phương\n",
      "Tuổi: 36\n",
      "Địa chỉ: 123 Hòa Bình\n",
      "Tiền lương: 12500000.0\n",
      "Tổng số giờ làm: 150.0\n",
      "Tiền thưởng: 1250000.0\n"
     ]
    }
   ],
   "source": [
    "nhanvien1 = NhanVien()\n",
    "nhanvien1.nhap_thong_tin()\n",
    "\n",
    "nhanvien1.in_thong_tin()\n",
    "print(f\"Tiền thưởng: {nhanvien1.tinh_thuong()}\")"
   ]
  }
 ],
 "metadata": {
  "kernelspec": {
   "display_name": "Python 3 (ipykernel)",
   "language": "python",
   "name": "python3"
  },
  "language_info": {
   "codemirror_mode": {
    "name": "ipython",
    "version": 3
   },
   "file_extension": ".py",
   "mimetype": "text/x-python",
   "name": "python",
   "nbconvert_exporter": "python",
   "pygments_lexer": "ipython3",
   "version": "3.9.6"
  }
 },
 "nbformat": 4,
 "nbformat_minor": 5
}
